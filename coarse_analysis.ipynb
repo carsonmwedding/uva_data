{
 "cells": [
  {
   "cell_type": "code",
   "execution_count": 3,
   "id": "13fe4503-2260-4015-b47e-dddf552e5242",
   "metadata": {},
   "outputs": [],
   "source": [
    "import pandas as pd\n",
    "import numpy as np\n",
    "import matplotlib.pyplot as plt\n",
    "import seaborn as sns\n",
    "import glob\n",
    "import scipy.optimize\n",
    "import scipy.stats\n",
    "import csv\n",
    "import json\n",
    "from scipy.io import loadmat\n",
    "from datetime import datetime, date, time, timedelta\n",
    "sns.set()"
   ]
  },
  {
   "cell_type": "markdown",
   "metadata": {},
   "source": [
    "# Importing CSVs "
   ]
  },
  {
   "cell_type": "code",
   "execution_count": 5,
   "metadata": {},
   "outputs": [],
   "source": [
    "patt_data = glob.glob('coarse/patt_dfs_updated/*****_coarse.csv')\n",
    "\n",
    "patt_dfs = []\n",
    "for file in patt_data:\n",
    "    subj_id = file[16:21]\n",
    "    df = pd.read_csv(file, low_memory = False)\n",
    "    df['ID'] = subj_id\n",
    "    patt_dfs.append(df)"
   ]
  },
  {
   "cell_type": "code",
   "execution_count": 6,
   "metadata": {},
   "outputs": [],
   "source": [
    "stats_data = glob.glob('stats_dfs/hour_updated/*****.csv')\n",
    "\n",
    "stats_dfs = []\n",
    "for file in stats_data:\n",
    "    df = pd.read_csv(file, low_memory = False)\n",
    "    stats_dfs.append(df)"
   ]
  },
  {
   "cell_type": "code",
   "execution_count": 7,
   "metadata": {},
   "outputs": [],
   "source": [
    "outcome_data = glob.glob('coarse/outcome_dfs_updated/*****_coarse.csv')\n",
    "\n",
    "outcome_dfs = []\n",
    "for file in outcome_data:\n",
    "    subj_id = file[19:25]\n",
    "    df = pd.read_csv(file, low_memory = False)\n",
    "    df['ID'] = subj_id\n",
    "    outcome_dfs.append(df)"
   ]
  },
  {
   "cell_type": "code",
   "execution_count": 9,
   "metadata": {},
   "outputs": [],
   "source": [
    "time_outcome_data = glob.glob('coarse/time_outcome_updated/*****_coarse.csv')\n",
    "\n",
    "time_div_dfs = []\n",
    "for file in time_outcome_data:\n",
    "    subj_id = file[24:29]\n",
    "    df = pd.read_csv(file, low_memory = False)\n",
    "    df['ID'] = subj_id\n",
    "    time_div_dfs.append(df)"
   ]
  },
  {
   "cell_type": "code",
   "execution_count": 10,
   "metadata": {},
   "outputs": [],
   "source": [
    "phase_outcome_data = glob.glob('coarse/phase_outcome_updated/*****_coarse.csv')\n",
    "\n",
    "phase_div_dfs = []\n",
    "for file in time_outcome_data:\n",
    "    subj_id = file[24:29]\n",
    "    df = pd.read_csv(file, low_memory = False)\n",
    "    df['ID'] = subj_id\n",
    "    phase_div_dfs.append(df)"
   ]
  },
  {
   "cell_type": "code",
   "execution_count": 64,
   "metadata": {},
   "outputs": [],
   "source": [
    "day_stats_data = glob.glob('stats_dfs/day/*****.csv')\n",
    "\n",
    "day_stats_dfs = []\n",
    "for file in day_stats_data:\n",
    "    df = pd.read_csv(file, low_memory = False)\n",
    "    day_stats_dfs.append(df)"
   ]
  },
  {
   "cell_type": "code",
   "execution_count": null,
   "id": "a4d295f7",
   "metadata": {},
   "outputs": [],
   "source": []
  },
  {
   "cell_type": "markdown",
   "id": "2536edb8",
   "metadata": {},
   "source": [
    "# Time division function"
   ]
  },
  {
   "cell_type": "code",
   "execution_count": 21,
   "id": "9df2f022",
   "metadata": {},
   "outputs": [],
   "source": [
    "def time_div_recovery(timepattdf, statsdf, bg_type):\n",
    "    '''returns statistics about time to recover after pattern including high/low bg is seen divided by time'''\n",
    "    timepattdf = timepattdf[timepattdf['length'] > 1]\n",
    "    \n",
    "    if bg_type == 'high':\n",
    "        timepattdf = timepattdf[timepattdf['incl_high'] == True].copy()\n",
    "        val_flag = 'TAR'\n",
    "    elif bg_type == 'low':\n",
    "        timepattdf = timepattdf[timepattdf['incl_low'] == True].copy()\n",
    "        val_flag = 'TBR'\n",
    "    \n",
    "    recovery_data = []\n",
    "    recovery_cols = ['pattern', 'length', 'repeats', 'ind_runs', 'time_block', 'min_recovery', \n",
    "                     'max_recovery', 'avg_recovery', 'edge']\n",
    "    \n",
    "    t_runs = ['time1_runs', 'time2_runs', 'time3_runs', 'time4_runs']\n",
    "    times = ['time1', 'time2', 'time3', 'time4']\n",
    "    for i in range(len(timepattdf)):\n",
    "        pattern = timepattdf.iloc[i]['pattern']\n",
    "        coord_list = timepattdf.iloc[i]['start_coords']\n",
    "        length = timepattdf.iloc[i]['length']\n",
    "        repeats = timepattdf.iloc[i]['repeats']\n",
    "        rec_times = []\n",
    "        edge = False\n",
    "        \n",
    "        \n",
    "        for j in range(len(t_runs)):\n",
    "            \n",
    "            coord_list = json.loads(timepattdf.iloc[i][t_runs[j]])\n",
    "            for coords in coord_list:\n",
    "                start_list = [(int(coords[0]) + length), (int(coords[1]) + length)]\n",
    "                for start in start_list:\n",
    "                    incl_extr = True\n",
    "                    count = 0\n",
    "                    if start > len(statsdf) - 1:\n",
    "                        edge = True\n",
    "                        break\n",
    "                    curr_row = statsdf.iloc[start]\n",
    "                    while incl_extr == True:\n",
    "                        if curr_row['TAR'] > 0:\n",
    "                            count += 1\n",
    "                            if (start + count > (len(statsdf) - 1)):\n",
    "                                edge = True\n",
    "                                break\n",
    "                            curr_row = statsdf.iloc[start + count]\n",
    "                        elif curr_row['TAR'] == 0: # break, bg has recovered\n",
    "                            count += 1\n",
    "                            incl_extr = False\n",
    "                    rec_times.append(count) # add time to recovery to list\n",
    "            if rec_times == []:\n",
    "                min_rec, max_rec, avg_rec = 0, 0, 0\n",
    "            else:\n",
    "                min_rec = min(rec_times)\n",
    "                max_rec = max(rec_times)\n",
    "                avg_rec = sum(rec_times) / len(rec_times)\n",
    "            recovery_list = [pattern, length, repeats, coord_list, times[j], min_rec, max_rec, avg_rec, edge]\n",
    "            recovery_data.append(recovery_list)\n",
    "        \n",
    "    recoverydf = pd.DataFrame(recovery_data)\n",
    "    recoverydf.columns = recovery_cols\n",
    "    return recoverydf"
   ]
  },
  {
   "cell_type": "code",
   "execution_count": 18,
   "id": "365e74bf",
   "metadata": {},
   "outputs": [],
   "source": [
    "test_id = str(stats_dfs[0].iloc[0]['id'])\n",
    "stats_df = stats_dfs[0].copy()\n",
    "\n",
    "time_outcome_file = 'coarse/time_outcome_updated/' + test_id +'_coarse.csv'\n",
    "time_div_df = pd.read_csv(time_outcome_file, low_memory = False)"
   ]
  },
  {
   "cell_type": "markdown",
   "metadata": {},
   "source": [
    "# Phase division outcome analysis"
   ]
  },
  {
   "cell_type": "markdown",
   "metadata": {},
   "source": [
    "# Phase division recovery analysis"
   ]
  },
  {
   "cell_type": "code",
   "execution_count": 13,
   "metadata": {},
   "outputs": [],
   "source": [
    "def phase_div_recovery(phasepattdf, statsdf, bg_type):\n",
    "    '''returns statistics about time to recover after pattern including high/low bg is seen divided by time'''\n",
    "    phasepattdf = phasepattdf[phasepattdf['length'] > 1]\n",
    "    \n",
    "    if bg_type == 'high':\n",
    "        phasepattdf = phasepattdf[phasepattdf['incl_high'] == True].copy()\n",
    "        val_flag = 'TAR'\n",
    "    elif bg_type == 'low':\n",
    "        phasepattdf = phasepattdf[phasepattdf['incl_low'] == True].copy()\n",
    "        val_flag = 'TBR'\n",
    "    \n",
    "    recovery_data = []\n",
    "    recovery_cols = ['pattern', 'length', 'repeats', 'ind_runs', 'phase', 'min_recovery', \n",
    "                     'max_recovery', 'avg_recovery', 'edge']\n",
    "    \n",
    "    p_runs = ['phase1_runs', 'phase2_runs', 'phase3_runs', 'phase4_runs']\n",
    "    phases = ['phase1', 'phase2', 'phase3', 'phase4']\n",
    "    for i in range(len(phasepattdf)):\n",
    "        pattern = phasepattdf.iloc[i]['pattern']\n",
    "        coord_list = phasepattdf.iloc[i]['start_coords']\n",
    "        length = phasepattdf.iloc[i]['length']\n",
    "        repeats = phasepattdf.iloc[i]['repeats']\n",
    "        rec_times = []\n",
    "        edge = False\n",
    "        \n",
    "        for j in range(len(p_runs)):\n",
    "            \n",
    "            coord_list = json.loads(phasepattdf.iloc[i][p_runs[j]])\n",
    "            for coords in coord_list:\n",
    "                start_list = [(int(coords[0]) + length), (int(coords[1]) + length)]\n",
    "                for start in start_list:\n",
    "                    incl_extr = True\n",
    "                    count = 0\n",
    "                    if start > len(statsdf) - 1:\n",
    "                        edge = True\n",
    "                        break\n",
    "                    curr_row = statsdf.iloc[start]\n",
    "                    while incl_extr == True:\n",
    "                        if curr_row['TAR'] > 0:\n",
    "                            count += 1\n",
    "                            if (start + count > (len(statsdf) - 1)):\n",
    "                                edge = True\n",
    "                                break\n",
    "                            curr_row = statsdf.iloc[start + count]\n",
    "                        elif curr_row['TAR'] == 0: # break, bg has recovered\n",
    "                            count += 1\n",
    "                            incl_extr = False\n",
    "                    rec_times.append(count) # add time to recovery to list\n",
    "            if rec_times == []:\n",
    "                min_rec, max_rec, avg_rec = 0, 0, 0\n",
    "            else:\n",
    "                min_rec = min(rec_times)\n",
    "                max_rec = max(rec_times)\n",
    "                avg_rec = sum(rec_times) / len(rec_times)\n",
    "            recovery_list = [pattern, length, repeats, coord_list, phases[j], min_rec, max_rec, avg_rec, edge]\n",
    "            recovery_data.append(recovery_list)\n",
    "        \n",
    "    recoverydf = pd.DataFrame(recovery_data)\n",
    "    recoverydf.columns = recovery_cols\n",
    "    return recoverydf"
   ]
  },
  {
   "cell_type": "code",
   "execution_count": 12,
   "metadata": {},
   "outputs": [],
   "source": [
    "test_id = str(stats_dfs[0].iloc[0]['id'])\n",
    "stats_df = stats_dfs[0].copy()\n",
    "\n",
    "phase_outcome_file = 'coarse/phase_outcome_dfs/' + test_id +'_coarse.csv'\n",
    "phase_div_df = pd.read_csv(phase_outcome_file, low_memory = False)"
   ]
  },
  {
   "cell_type": "code",
   "execution_count": null,
   "metadata": {},
   "outputs": [],
   "source": [
    "phase_recs_data = []\n",
    "phase_cols = ['phase1', 'phase2', 'phase3', 'phase4']\n",
    "\n",
    "for stats_df in stats_dfs:\n",
    "    subj_id = str(stats_df.iloc[0]['id'])\n",
    "    phase_outcome_file = 'coarse/phase_outcome_dfs/' + test_id +'_coarse.csv'\n",
    "    phase_div_df = pd.read_csv(phase_outcome_file, low_memory = False)\n",
    "\n",
    "    rec_df = phase_div_recovery(phase_div_df, stats_df, 'high')\n",
    "    file_name = 'coarse/phase_rec_dfs/' + subj_id + '.csv'\n",
    "    rec_df.to_csv(file_name, index = False)\n",
    "\n",
    "    df = rec_df.copy()\n",
    "    df = df[df['ind_runs'].map(lambda d: len(d)) > 0]\n",
    "    for j in range(len(df)):\n",
    "        pattern = df.iloc[j]['pattern']\n",
    "        phase = df.iloc[j]['phase']\n",
    "        avg_rec = df.iloc[j]['avg_recovery']\n",
    "        phase_recs_data.append([pattern, phase, avg_rec])"
   ]
  }
 ],
 "metadata": {
  "kernelspec": {
   "display_name": "Python 3 (ipykernel)",
   "language": "python",
   "name": "python3"
  },
  "language_info": {
   "codemirror_mode": {
    "name": "ipython",
    "version": 3
   },
   "file_extension": ".py",
   "mimetype": "text/x-python",
   "name": "python",
   "nbconvert_exporter": "python",
   "pygments_lexer": "ipython3",
   "version": "3.9.15"
  }
 },
 "nbformat": 4,
 "nbformat_minor": 5
}
