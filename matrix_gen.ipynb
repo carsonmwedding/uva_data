{
 "cells": [
  {
   "cell_type": "code",
   "execution_count": 1,
   "id": "f6c070f7-944a-4a4c-a5ed-e5417e53e2d8",
   "metadata": {},
   "outputs": [
    {
     "name": "stdout",
     "output_type": "stream",
     "text": [
      "Intel MKL WARNING: Support of Intel(R) Streaming SIMD Extensions 4.2 (Intel(R) SSE4.2) enabled only processors has been deprecated. Intel oneAPI Math Kernel Library 2025.0 will require Intel(R) Advanced Vector Extensions (Intel(R) AVX) instructions.\n",
      "Intel MKL WARNING: Support of Intel(R) Streaming SIMD Extensions 4.2 (Intel(R) SSE4.2) enabled only processors has been deprecated. Intel oneAPI Math Kernel Library 2025.0 will require Intel(R) Advanced Vector Extensions (Intel(R) AVX) instructions.\n"
     ]
    }
   ],
   "source": [
    "import pandas as pd\n",
    "import numpy as np\n",
    "import matplotlib.pyplot as plt\n",
    "import seaborn as sns\n",
    "import glob\n",
    "import scipy.optimize\n",
    "import scipy.stats\n",
    "from scipy.io import loadmat\n",
    "from datetime import datetime, date, time, timedelta\n",
    "sns.set()"
   ]
  },
  {
   "cell_type": "markdown",
   "metadata": {},
   "source": [
    "### Taisa's code / adapted fxn"
   ]
  },
  {
   "cell_type": "code",
   "execution_count": null,
   "metadata": {},
   "outputs": [],
   "source": [
    "# code to build a recurrence plot\n",
    "# Taisa Kushner, Dec 4 2023\n",
    "\n",
    "\n",
    "# To convert to patient data, just replace vector a with whatever vector you want to use, and you can delete all the print statements that are inside the loop as they will slow things down.\n",
    "\n",
    "# first let's build a random vector\n",
    "# we'll do something that is easy to verify the correct construction of the recurrence plot for\n",
    "a = np.array([1,2,1,2,3,1])\n",
    "print('We are building a recurrence plot for the following vector :')\n",
    "print(a)\n",
    "\n",
    "# let's get the length of a\n",
    "N = len(a)\n",
    "\n",
    "# build an empty identify matrix to hold our recurrenc plot matrix, as we know the diagonal all matches\n",
    "recMat = np.eye(N)\n",
    "\n",
    "# now we will take two copies of the array \"a\" and slide them against one another. So at step \"j\" we are comparing N-j elements with the ones next to them. This will give us the values that belong on the \"jth\" diagonal of the recurrence matrix. We will then set that j-th diagonal equal to this compared array.\n",
    "\n",
    "# we'll do the lower triangular matrix first\n",
    "for j in range(1,N):\n",
    "    np.fill_diagonal(recMat[j:,:-j], np.equal(a[j:],a[:-j]))\n",
    "    # let's add in some print statements so you can see what the code is doing\n",
    "    print('------')\n",
    "    print('We are building the off-diagonal that is ('+ str(j)+') below the main diagonal')\n",
    "    print('The first element of the first array should be: '+str(a[j]))\n",
    "    print('First array being compared is: ')\n",
    "    print(a[j:])\n",
    "    print('Second array being compared is: ')\n",
    "    print(a[:-j])\n",
    "\n",
    "# now we will transpose this matrix, and add it to itself to fill the upper triangular matrix\n",
    "print('-- Our intermediate lower triangular array is: ')\n",
    "print(recMat)\n",
    "\n",
    "print('Now we are adding the transpose...')\n",
    "print('The transpose is: ')\n",
    "print( np.transpose(recMat))\n",
    "\n",
    "recMat = recMat + np.transpose(recMat)\n",
    "print('Our matrix now looks like:')\n",
    "print(recMat)\n",
    "\n",
    "# this will yield 2's on the main diagonal, so let's subtract the N-dimensional identiy matrix from this to get that back to 1's\n",
    "print('Now we subtract the identity to get our main diagonal values back to 1')\n",
    "\n",
    "recMat = recMat - np.eye(N)\n",
    "\n",
    "print('---Our final matrix is---')\n",
    "print(recMat)"
   ]
  },
  {
   "cell_type": "code",
   "execution_count": 2,
   "metadata": {},
   "outputs": [],
   "source": [
    "def build_RQA_plot(df, var):\n",
    "    a = df[var].values.flatten()\n",
    "    N = len(a)\n",
    "    recMat = np.eye(N)\n",
    "    \n",
    "    for j in range(1,N):\n",
    "        np.fill_diagonal(recMat[j:,:-j], np.equal(a[j:],a[:-j]))\n",
    "\n",
    "    recMat = recMat + np.transpose(recMat)\n",
    "\n",
    "    recMat = recMat - np.eye(N)\n",
    "\n",
    "    return recMat"
   ]
  },
  {
   "cell_type": "markdown",
   "metadata": {},
   "source": [
    "## Coarse matrices"
   ]
  },
  {
   "cell_type": "code",
   "execution_count": 8,
   "metadata": {},
   "outputs": [],
   "source": [
    "c_data = glob.glob('coarse/hashes_updated/*****_coarse.csv')\n"
   ]
  },
  {
   "cell_type": "code",
   "execution_count": 30,
   "metadata": {},
   "outputs": [],
   "source": [
    "ids = []\n",
    "for name in c_data:\n",
    "    ids.append(name[22:27])"
   ]
  },
  {
   "cell_type": "code",
   "execution_count": 10,
   "metadata": {},
   "outputs": [],
   "source": [
    "c_hash_dfs = []\n",
    "for file in c_data:\n",
    "    c_hash_dfs.append(pd.read_csv(file, low_memory = False))"
   ]
  },
  {
   "cell_type": "code",
   "execution_count": 32,
   "metadata": {},
   "outputs": [],
   "source": [
    "for i in range(len(c_hash_dfs)):\n",
    "    df = c_hash_dfs[i]\n",
    "    c_mat = build_RQA_plot(df, 'hash')\n",
    "    \n",
    "    csv_name = 'coarse/results_updated/' + ids[i] + '_coarse_mat.csv'\n",
    "    temp_df = pd.DataFrame(c_mat)\n",
    "    temp_df.to_csv(csv_name, index = False, header = False)"
   ]
  },
  {
   "cell_type": "markdown",
   "metadata": {},
   "source": [
    "## Fine matrices"
   ]
  },
  {
   "cell_type": "code",
   "execution_count": 8,
   "metadata": {},
   "outputs": [],
   "source": [
    "f_data = glob.glob('fine/hashes_updated/*****_fine.csv')"
   ]
  },
  {
   "cell_type": "code",
   "execution_count": 11,
   "metadata": {},
   "outputs": [],
   "source": [
    "f_ids = []\n",
    "for name in f_data:\n",
    "    f_ids.append(name[20:25])"
   ]
  },
  {
   "cell_type": "code",
   "execution_count": 13,
   "metadata": {},
   "outputs": [],
   "source": [
    "f_hash_dfs = []\n",
    "for file in f_data:\n",
    "    f_hash_dfs.append(pd.read_csv(file, low_memory = False))"
   ]
  },
  {
   "cell_type": "code",
   "execution_count": 14,
   "metadata": {},
   "outputs": [],
   "source": [
    "for i in range(len(f_hash_dfs)):\n",
    "    df = f_hash_dfs[i]\n",
    "    f_mat = build_RQA_plot(df, 'hash')\n",
    "    \n",
    "    csv_name = 'fine/results_updated/' + f_ids[i] + '_fine_mat.csv'\n",
    "    temp_df = pd.DataFrame(f_mat)\n",
    "    temp_df.to_csv(csv_name, index = False, header = False)"
   ]
  }
 ],
 "metadata": {
  "kernelspec": {
   "display_name": "Python 3 (ipykernel)",
   "language": "python",
   "name": "python3"
  },
  "language_info": {
   "codemirror_mode": {
    "name": "ipython",
    "version": 3
   },
   "file_extension": ".py",
   "mimetype": "text/x-python",
   "name": "python",
   "nbconvert_exporter": "python",
   "pygments_lexer": "ipython3",
   "version": "3.9.15"
  }
 },
 "nbformat": 4,
 "nbformat_minor": 5
}
